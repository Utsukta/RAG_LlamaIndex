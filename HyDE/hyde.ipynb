{
 "cells": [
  {
   "cell_type": "code",
   "execution_count": 1,
   "metadata": {},
   "outputs": [
    {
     "name": "stderr",
     "output_type": "stream",
     "text": [
      "/opt/anaconda3/envs/LLAMAINDEX_RAG/lib/python3.12/site-packages/tqdm/auto.py:21: TqdmWarning: IProgress not found. Please update jupyter and ipywidgets. See https://ipywidgets.readthedocs.io/en/stable/user_install.html\n",
      "  from .autonotebook import tqdm as notebook_tqdm\n"
     ]
    }
   ],
   "source": [
    "import logging,qdrant_client\n",
    "import sys\n",
    "\n",
    "logging.basicConfig(stream=sys.stdout, level=logging.INFO)\n",
    "logging.getLogger().addHandler(logging.StreamHandler(stream=sys.stdout))\n",
    "\n",
    "from llama_index.core import VectorStoreIndex, SimpleDirectoryReader,Settings,StorageContext\n",
    "from llama_index.core.indices.query.query_transform import HyDEQueryTransform\n",
    "from llama_index.core.query_engine import TransformQueryEngine\n",
    "from IPython.display import Markdown, display\n",
    "from llama_index.llms.ollama import Ollama\n",
    "from llama_index.embeddings.ollama import OllamaEmbedding\n",
    "from llama_index.core.node_parser import SentenceSplitter\n",
    "from llama_index.vector_stores.qdrant import QdrantVectorStore\n"
   ]
  },
  {
   "cell_type": "code",
   "execution_count": 3,
   "metadata": {},
   "outputs": [],
   "source": [
    "# load documents\n",
    "documents = SimpleDirectoryReader(\"./doc\").load_data()"
   ]
  },
  {
   "cell_type": "code",
   "execution_count": 4,
   "metadata": {},
   "outputs": [],
   "source": [
    "Settings.llm=Ollama(model=\"llama3\",request_timeout=120.0)"
   ]
  },
  {
   "cell_type": "code",
   "execution_count": 5,
   "metadata": {},
   "outputs": [],
   "source": [
    "Settings.embed_model=OllamaEmbedding(model_name=\"snowflake-arctic-embed\")"
   ]
  },
  {
   "cell_type": "code",
   "execution_count": 6,
   "metadata": {},
   "outputs": [],
   "source": [
    "Settings.text_splitter=SentenceSplitter(chunk_size=1024,chunk_overlap=20)"
   ]
  },
  {
   "cell_type": "code",
   "execution_count": 7,
   "metadata": {},
   "outputs": [],
   "source": [
    "client=qdrant_client.QdrantClient(location=\":memory:\")\n",
    "vector_store=QdrantVectorStore(client=client,collection_name=\"sampledata\")"
   ]
  },
  {
   "cell_type": "code",
   "execution_count": 8,
   "metadata": {},
   "outputs": [],
   "source": [
    "storage_context=StorageContext.from_defaults(vector_store=vector_store)"
   ]
  },
  {
   "cell_type": "code",
   "execution_count": 9,
   "metadata": {},
   "outputs": [],
   "source": [
    "index = VectorStoreIndex.from_documents(documents=documents,storage_context=storage_context)"
   ]
  },
  {
   "cell_type": "code",
   "execution_count": 11,
   "metadata": {},
   "outputs": [],
   "source": [
    "index.storage_context.persist(persist_dir=\"db\")"
   ]
  },
  {
   "cell_type": "code",
   "execution_count": 12,
   "metadata": {},
   "outputs": [],
   "source": [
    "query_engine=index.as_query_engine(response_mode=\"refine\",verbose=True,similarity_top_k=10)"
   ]
  },
  {
   "cell_type": "code",
   "execution_count": 26,
   "metadata": {},
   "outputs": [],
   "source": [
    "query_str = \"Tell me about Ideathon and COMPETITION RULES to participate in ideathon\""
   ]
  },
  {
   "cell_type": "code",
   "execution_count": 27,
   "metadata": {},
   "outputs": [],
   "source": [
    "system_prompt = (\n",
    "   \"You are an AI assistant specialized in providing information from the uploaded document. \"\n",
    "   \"Please ensure that your responses are strictly derived from the content of the document. \"\n",
    "   \"If the information is not found in the document, please indicate that explicitly.\"\n",
    ")  "
   ]
  },
  {
   "cell_type": "code",
   "execution_count": 28,
   "metadata": {},
   "outputs": [],
   "source": [
    "query_with_prompt=f\"{system_prompt}\\nUser query:{query_str}\""
   ]
  },
  {
   "cell_type": "code",
   "execution_count": 29,
   "metadata": {},
   "outputs": [
    {
     "name": "stdout",
     "output_type": "stream",
     "text": [
      "INFO:httpx:HTTP Request: POST http://localhost:11434/api/chat \"HTTP/1.1 200 OK\"\n",
      "HTTP Request: POST http://localhost:11434/api/chat \"HTTP/1.1 200 OK\"\n"
     ]
    },
    {
     "data": {
      "text/markdown": [
       "According to the provided context information, it appears that \"Ideathon\" is listed as one of the options under the category \"WORKSHOP/SESSION\". However, there is no explicit information regarding the competition rules for participating in Ideathon. It's possible that this information may be mentioned elsewhere in the document or presentation, but based on the provided context, I couldn't find any specific details about the competition rules for Ideathon."
      ],
      "text/plain": [
       "<IPython.core.display.Markdown object>"
      ]
     },
     "metadata": {},
     "output_type": "display_data"
    }
   ],
   "source": [
    "query_engine = index.as_query_engine()\n",
    "response = query_engine.query(query_with_prompt)\n",
    "display(Markdown(f\"{response}\"))"
   ]
  },
  {
   "cell_type": "code",
   "execution_count": 30,
   "metadata": {},
   "outputs": [
    {
     "name": "stdout",
     "output_type": "stream",
     "text": [
      "INFO:httpx:HTTP Request: POST http://localhost:11434/api/chat \"HTTP/1.1 200 OK\"\n",
      "HTTP Request: POST http://localhost:11434/api/chat \"HTTP/1.1 200 OK\"\n",
      "INFO:httpx:HTTP Request: POST http://localhost:11434/api/chat \"HTTP/1.1 200 OK\"\n",
      "HTTP Request: POST http://localhost:11434/api/chat \"HTTP/1.1 200 OK\"\n"
     ]
    },
    {
     "data": {
      "text/markdown": [
       "According to the provided context, Ideathon is a pre-event workshop under the ICT Meetup, which involves hands-on problem-solving, empathy-driven ideation, and rapid prototyping techniques. This workshop aims to teach participants to brainstorm, innovate, and transform their ideas into impactful innovations.\n",
       "\n",
       "To participate in the Ideathon, here are the COMPETITION RULES mentioned in the document:\n",
       "\n",
       "* Teams should submit ideas based on the theme provided by the organizers.\n",
       "* Teams can consist of at most four members each.\n",
       "* The registration will be through our official website."
      ],
      "text/plain": [
       "<IPython.core.display.Markdown object>"
      ]
     },
     "metadata": {},
     "output_type": "display_data"
    }
   ],
   "source": [
    "hyde = HyDEQueryTransform(include_original=True)\n",
    "hyde_query_engine = TransformQueryEngine(query_engine, hyde)\n",
    "response = hyde_query_engine.query(query_with_prompt)\n",
    "display(Markdown(f\"{response}\"))"
   ]
  },
  {
   "cell_type": "code",
   "execution_count": 31,
   "metadata": {},
   "outputs": [],
   "source": [
    "query_bundle = hyde(query_str)\n",
    "hyde_doc = query_bundle.embedding_strs[0]"
   ]
  },
  {
   "cell_type": "code",
   "execution_count": 19,
   "metadata": {},
   "outputs": [
    {
     "data": {
      "text/plain": [
       "'Here is a passage that answers the question on how to participate in ICT Meetup events:\\n\\n\"Are you interested in exploring the latest developments in Information and Communication Technology (ICT)? Look no further than ICT Meetup, a community-driven platform that brings together professionals, enthusiasts, and students alike to share knowledge, ideas, and experiences. To participate in ICT Meetup events, simply follow these steps: first, create an account on the Meetup website by providing your name, email address, and password. Once you\\'ve signed up, search for ICT-related meetups in your area or browse through existing events to find one that piques your interest.\\n\\nNext, read the event description carefully to understand the topic, agenda, and any specific requirements or expectations from the organizers. If the event aligns with your interests and schedule, click the \"Join\" button to reserve your spot. You can also RSVP for an event by sending a reply to the organizer\\'s email invitation or through Meetup\\'s notification system.\\n\\nBefore attending an ICT Meetup event, make sure you\\'re familiar with the venue location, date, time, and any specific instructions from the organizers. Arrive early to network with fellow attendees and get settled before the event starts. During the event, be prepared to engage in discussions, ask questions, and share your own experiences or insights.\\n\\nAfter the event, don\\'t forget to provide feedback to the organizers through Meetup\\'s built-in rating system, which helps them evaluate the success of their event and plan future meetups that better cater to attendees\\' needs. By participating in ICT Meetup events, you\\'ll not only expand your professional network but also stay updated on the latest trends and innovations in the field.\"'"
      ]
     },
     "execution_count": 19,
     "metadata": {},
     "output_type": "execute_result"
    }
   ],
   "source": [
    "hyde_doc"
   ]
  },
  {
   "cell_type": "code",
   "execution_count": null,
   "metadata": {},
   "outputs": [],
   "source": []
  }
 ],
 "metadata": {
  "kernelspec": {
   "display_name": "LLAMAINDEX_RAG",
   "language": "python",
   "name": "python3"
  },
  "language_info": {
   "codemirror_mode": {
    "name": "ipython",
    "version": 3
   },
   "file_extension": ".py",
   "mimetype": "text/x-python",
   "name": "python",
   "nbconvert_exporter": "python",
   "pygments_lexer": "ipython3",
   "version": "3.12.3"
  }
 },
 "nbformat": 4,
 "nbformat_minor": 2
}
